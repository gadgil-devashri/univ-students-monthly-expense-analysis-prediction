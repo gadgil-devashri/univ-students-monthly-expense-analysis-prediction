{
 "cells": [
  {
   "cell_type": "code",
   "execution_count": 1,
   "metadata": {},
   "outputs": [],
   "source": [
    "# Profiling requires an older version of pandas and i just cant seem to get it working locally. So I'm moving this to a seperate notebook"
   ]
  },
  {
   "cell_type": "code",
   "execution_count": null,
   "metadata": {},
   "outputs": [],
   "source": [
    "# ! pip install pandas-profiling==2.8.0\n",
    "# ! pip install pandas==1.2\n",
    "\n",
    "import numpy as np\n",
    "import pandas as pd\n",
    "from pandas_profiling import ProfileReport"
   ]
  },
  {
   "cell_type": "code",
   "execution_count": null,
   "metadata": {},
   "outputs": [],
   "source": [
    "data = pd.read_csv('data/University Students Monthly Expenses.csv')\n",
    "\n",
    "# create a pandas-profiling report\n",
    "profile_elect = ProfileReport(data, title='Monthly Expense Report')\n",
    "profile_elect.to_file(\"outputs/Monthly Expense Report.html\")"
   ]
  }
 ],
 "metadata": {
  "kernelspec": {
   "display_name": "Python 3.8.13 ('va')",
   "language": "python",
   "name": "python3"
  },
  "language_info": {
   "codemirror_mode": {
    "name": "ipython",
    "version": 3
   },
   "file_extension": ".py",
   "mimetype": "text/x-python",
   "name": "python",
   "nbconvert_exporter": "python",
   "pygments_lexer": "ipython3",
   "version": "3.8.13"
  },
  "orig_nbformat": 4,
  "vscode": {
   "interpreter": {
    "hash": "2f835f9a9bba8c4e26a34ba5de84a761fd2e5dd86f4545890b87257764c10089"
   }
  }
 },
 "nbformat": 4,
 "nbformat_minor": 2
}
