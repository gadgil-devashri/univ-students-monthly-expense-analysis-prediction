{
 "cells": [
  {
   "cell_type": "code",
   "execution_count": 17,
   "metadata": {},
   "outputs": [],
   "source": [
    "import numpy as np\n",
    "import pandas as pd\n",
    "from pycaret.classification import *"
   ]
  },
  {
   "cell_type": "code",
   "execution_count": 18,
   "metadata": {},
   "outputs": [],
   "source": [
    "data = pd.read_csv('data/univ_clean.csv')"
   ]
  },
  {
   "cell_type": "code",
   "execution_count": 19,
   "metadata": {},
   "outputs": [],
   "source": [
    "def get_modeling_df(orig_df):\n",
    "    df = orig_df.copy()\n",
    "    bins = [120, 150, 180, 210, 240, 270, 300, 330, 360]\n",
    "    labels = [120,150,180,210,240,270,300, 330]\n",
    "    df['Monthly_Expenses'] = pd.cut(df['Monthly_expenses_$'], bins=bins, labels=labels)\n",
    "    df = df.drop('Monthly_expenses_$', axis =1)\n",
    "    df = df.astype('category')\n",
    "    df['Study_year'] = pd.to_numeric(df['Study_year'])\n",
    "    return df"
   ]
  },
  {
   "cell_type": "code",
   "execution_count": 20,
   "metadata": {},
   "outputs": [
    {
     "data": {
      "text/html": [
       "<div>\n",
       "<style scoped>\n",
       "    .dataframe tbody tr th:only-of-type {\n",
       "        vertical-align: middle;\n",
       "    }\n",
       "\n",
       "    .dataframe tbody tr th {\n",
       "        vertical-align: top;\n",
       "    }\n",
       "\n",
       "    .dataframe thead th {\n",
       "        text-align: right;\n",
       "    }\n",
       "</style>\n",
       "<table border=\"1\" class=\"dataframe\">\n",
       "  <thead>\n",
       "    <tr style=\"text-align: right;\">\n",
       "      <th></th>\n",
       "      <th>Gender</th>\n",
       "      <th>Age</th>\n",
       "      <th>Study_year</th>\n",
       "      <th>Living</th>\n",
       "      <th>Scholarship</th>\n",
       "      <th>Part_time_job</th>\n",
       "      <th>Transporting</th>\n",
       "      <th>Smoking</th>\n",
       "      <th>Drinks</th>\n",
       "      <th>Games_&amp;_Hobbies</th>\n",
       "      <th>Cosmetics_&amp;_Self-care</th>\n",
       "      <th>Monthly_Subscription</th>\n",
       "      <th>Monthly_Expenses</th>\n",
       "    </tr>\n",
       "  </thead>\n",
       "  <tbody>\n",
       "    <tr>\n",
       "      <th>0</th>\n",
       "      <td>Female</td>\n",
       "      <td>21</td>\n",
       "      <td>2.0</td>\n",
       "      <td>Home</td>\n",
       "      <td>No</td>\n",
       "      <td>No</td>\n",
       "      <td>No</td>\n",
       "      <td>No</td>\n",
       "      <td>No</td>\n",
       "      <td>No</td>\n",
       "      <td>Yes</td>\n",
       "      <td>No</td>\n",
       "      <td>120</td>\n",
       "    </tr>\n",
       "    <tr>\n",
       "      <th>1</th>\n",
       "      <td>Male</td>\n",
       "      <td>25</td>\n",
       "      <td>3.0</td>\n",
       "      <td>Hostel</td>\n",
       "      <td>No</td>\n",
       "      <td>Yes</td>\n",
       "      <td>Motorcycle</td>\n",
       "      <td>No</td>\n",
       "      <td>No</td>\n",
       "      <td>Yes</td>\n",
       "      <td>Yes</td>\n",
       "      <td>Yes</td>\n",
       "      <td>210</td>\n",
       "    </tr>\n",
       "  </tbody>\n",
       "</table>\n",
       "</div>"
      ],
      "text/plain": [
       "    Gender Age  Study_year  Living Scholarship Part_time_job Transporting  \\\n",
       "0  Female   21         2.0    Home          No            No           No   \n",
       "1    Male   25         3.0  Hostel          No           Yes   Motorcycle   \n",
       "\n",
       "  Smoking Drinks Games_&_Hobbies Cosmetics_&_Self-care Monthly_Subscription  \\\n",
       "0      No     No              No                   Yes                   No   \n",
       "1      No     No             Yes                   Yes                  Yes   \n",
       "\n",
       "  Monthly_Expenses  \n",
       "0              120  \n",
       "1              210  "
      ]
     },
     "execution_count": 20,
     "metadata": {},
     "output_type": "execute_result"
    }
   ],
   "source": [
    "df = get_modeling_df(data)\n",
    "df.head(2)"
   ]
  },
  {
   "cell_type": "code",
   "execution_count": 21,
   "metadata": {},
   "outputs": [
    {
     "name": "stdout",
     "output_type": "stream",
     "text": [
      "['Female ', 'Male ']\n",
      "Categories (2, object): ['Female ', 'Male ']\n",
      "[21, 25, 23, 19, 22, 18, 17]\n",
      "Categories (7, int64): [17, 18, 19, 21, 22, 23, 25]\n",
      "[2. 3. 1. 4.]\n",
      "['Home', 'Hostel']\n",
      "Categories (2, object): ['Home', 'Hostel']\n",
      "['No', 'Yes']\n",
      "Categories (2, object): ['No', 'Yes']\n",
      "['No', 'Yes']\n",
      "Categories (2, object): ['No', 'Yes']\n",
      "['No', 'Motorcycle', 'Car']\n",
      "Categories (3, object): ['Car', 'Motorcycle', 'No']\n",
      "['No', 'Yes']\n",
      "Categories (2, object): ['No', 'Yes']\n",
      "['No', 'Yes']\n",
      "Categories (2, object): ['No', 'Yes']\n",
      "['No', 'Yes']\n",
      "Categories (2, object): ['No', 'Yes']\n",
      "['Yes', 'No']\n",
      "Categories (2, object): ['No', 'Yes']\n",
      "['No', 'Yes']\n",
      "Categories (2, object): ['No', 'Yes']\n",
      "[120, 210, 150, 180, 270, 330, 240]\n",
      "Categories (8, int64): [120 < 150 < 180 < 210 < 240 < 270 < 300 < 330]\n"
     ]
    }
   ],
   "source": [
    "for c in df.columns.tolist():\n",
    "    print(df[c].unique())"
   ]
  },
  {
   "cell_type": "code",
   "execution_count": 4,
   "metadata": {},
   "outputs": [],
   "source": [
    "clf = setup(data = df, target = 'Monthly_Expenses',\n",
    "                       data_split_shuffle=False,\n",
    "                       silent=True, verbose=False)\n",
    "\n",
    "model = create_model('dt', verbose=False)"
   ]
  },
  {
   "cell_type": "code",
   "execution_count": 15,
   "metadata": {},
   "outputs": [
    {
     "data": {
      "text/plain": [
       "'Feature Importance (All).png'"
      ]
     },
     "execution_count": 15,
     "metadata": {},
     "output_type": "execute_result"
    }
   ],
   "source": [
    "\n",
    "# interpret_model(model, save = True)"
   ]
  },
  {
   "cell_type": "code",
   "execution_count": null,
   "metadata": {},
   "outputs": [],
   "source": []
  }
 ],
 "metadata": {
  "kernelspec": {
   "display_name": "Python 3.8.13 ('va')",
   "language": "python",
   "name": "python3"
  },
  "language_info": {
   "codemirror_mode": {
    "name": "ipython",
    "version": 3
   },
   "file_extension": ".py",
   "mimetype": "text/x-python",
   "name": "python",
   "nbconvert_exporter": "python",
   "pygments_lexer": "ipython3",
   "version": "3.8.13"
  },
  "orig_nbformat": 4,
  "vscode": {
   "interpreter": {
    "hash": "2f835f9a9bba8c4e26a34ba5de84a761fd2e5dd86f4545890b87257764c10089"
   }
  }
 },
 "nbformat": 4,
 "nbformat_minor": 2
}
